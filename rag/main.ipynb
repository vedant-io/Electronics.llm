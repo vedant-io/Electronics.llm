{
 "cells": [
  {
   "cell_type": "code",
   "execution_count": 1,
   "id": "30a560ff",
   "metadata": {},
   "outputs": [],
   "source": [
    "import os\n",
    "os.environ[\"GOOGLE_API_KEY\"] = \"----\""
   ]
  },
  {
   "cell_type": "code",
   "execution_count": 2,
   "id": "35fb4431",
   "metadata": {},
   "outputs": [],
   "source": [
    "from langchain_community.document_loaders import TextLoader\n",
    "loader = TextLoader(\"projects.jsonl\")\n",
    "text_documents = loader.load()\n",
    "# text_documents"
   ]
  },
  {
   "cell_type": "code",
   "execution_count": 3,
   "id": "7682364c",
   "metadata": {},
   "outputs": [
    {
     "data": {
      "text/plain": [
       "[Document(metadata={'source': 'projects.jsonl'}, page_content='{\"title\":\"How to build a Wearable Air Quality Monitor Pendant using STM32 & SGP40 Sensor\",\"content\":\"Indoor and outdoor air pollution significantly impacts human health, causing respiratory issues and reducing life expectancy. Personal air quality monitoring has become essential for protecting ourselves from harmful airborne contaminants like volatile organic compounds (VOCs), particulate matter, and toxic gases. This DIY wearable air quality monitor pendant continuously tracks Total Volatile Organic Compounds (TVOC) levels using the professional SGP40 sensor. The device features intuitive LED color coding and audio alerts, making air quality status immediately recognizable for users of all ages. When dangerous pollution levels are detected, the wearable air quality monitor provides instant warnings to help you move to safer environments.\\\\n\\\\nThis comprehensive tutorial covers everything needed to build your own wearable air quality monitoring system, including circuit design, PCB'),\n",
       " Document(metadata={'source': 'projects.jsonl'}, page_content='warnings to help you move to safer environments.\\\\n\\\\nThis comprehensive tutorial covers everything needed to build your own wearable air quality monitoring system, including circuit design, PCB fabrication, 3D printing, and Arduino programming for the STM32 microcontroller. We have also built a lot of other electronics projects here at CircuitDigest, and many air quality monitoring projects if you are looking for something simple and beginner-friendly check out this arduino air quality monitoring system.\\\\n\\\\n# Air Quality Pendant Overview and Features\\\\n\\\\nHave you ever wondered about the air quality in your home or office? This wearable air quality pendant answers that question by monitoring TVOC levels throughout your day. Using the reliable SGP40 sensor, it gives you instant feedback through color-changing LEDs and gentle musical tones - no complicated readings to interpret. The best part? The smooth LED transitions and pleasant alert sounds make it feel more like a piece of smart'),\n",
       " Document(metadata={'source': 'projects.jsonl'}, page_content=\"color-changing LEDs and gentle musical tones - no complicated readings to interpret. The best part? The smooth LED transitions and pleasant alert sounds make it feel more like a piece of smart jewelry than a technical device.\\\\n\\\\nWhat makes this air quality monitor special is how smartly it works behind the scenes. The STM32 microcontroller multitasks seamlessly like reading sensors, updating displays, and playing alerts without any lag. It's like having a tiny environmental scientist on your chest, constantly checking the air and letting you know when things change. Whether you're at home cooking dinner, working in an office, or visiting a new building, you'll always know what you're breathing.\\\\n\\\\n# Components Required for Air Quality Monitor\\\\n\\\\nBuilding a wearable air quality monitor requires carefully selected low-power components to ensure all-day battery operation. Each component in this TVOC monitoring system was chosen for optimal energy efficiency without compromising air\"),\n",
       " Document(metadata={'source': 'projects.jsonl'}, page_content='requires carefully selected low-power components to ensure all-day battery operation. Each component in this TVOC monitoring system was chosen for optimal energy efficiency without compromising air quality detection accuracy. This project was made possible, thanks to our sponsor DigiKey, from whom we have purchased all the components used in this project. You can also check out the BOM, Circuit, Gerber, and Firmware Files for this projects.\\\\n\\\\nSTM32U083KCUx: An ultra-low-power microcontroller based on the high-performance Arm® Cortex®-M0+ 32-bit RISC core, operating at a frequency of up to 56 MHz. You can also check out our other STM32 Projects.\\\\n\\\\nSTM32U083KCUx: An ultra-low-power microcontroller based on the high-performance Arm® Cortex®-M0+ 32-bit RISC core, operating at a frequency of up to 56 MHz. You can also check out our other STM32 Projects.\\\\n\\\\nSGP40: A digital indoor air quality sensor for VOC measurements, offering long-term stability, a long lifetime, and very low power'),\n",
       " Document(metadata={'source': 'projects.jsonl'}, page_content='of up to 56 MHz. You can also check out our other STM32 Projects.\\\\n\\\\nSGP40: A digital indoor air quality sensor for VOC measurements, offering long-term stability, a long lifetime, and very low power consumption.\\\\n\\\\nSGP40: A digital indoor air quality sensor for VOC measurements, offering long-term stability, a long lifetime, and very low power consumption.\\\\n\\\\nADPL44002: A CMOS low dropout (LDO) linear regulator that operates from 2.7V to 40V and provides up to 200mA of output current.\\\\n\\\\nADPL44002: A CMOS low dropout (LDO) linear regulator that operates from 2.7V to 40V and provides up to 200mA of output current.\\\\n\\\\nMCP73831/2: A highly advanced linear charge management controller for use in space-limited, cost-sensitive applications.\\\\n\\\\nMCP73831/2: A highly advanced linear charge management controller for use in space-limited, cost-sensitive applications.\\\\n\\\\nEAST1616RGBA1: A common cathode RGB LED used for indication purposes.\\\\n\\\\nEAST1616RGBA1: A common cathode RGB LED used for'),\n",
       " Document(metadata={'source': 'projects.jsonl'}, page_content='controller for use in space-limited, cost-sensitive applications.\\\\n\\\\nEAST1616RGBA1: A common cathode RGB LED used for indication purposes.\\\\n\\\\nEAST1616RGBA1: A common cathode RGB LED used for indication purposes.\\\\n\\\\nSS8550: A general-purpose PNP transistor for switching the buzzer.\\\\n\\\\nSS8550: A general-purpose PNP transistor for switching the buzzer.\\\\n\\\\nPKMCS0909E4000-R1: A piezoelectric SMD sounder.\\\\n\\\\nPKMCS0909E4000-R1: A piezoelectric SMD sounder.\\\\n\\\\nOther passive components\\\\n\\\\nOther passive components\\\\n\\\\nConnectors\\\\n\\\\nConnectors\\\\n\\\\nCustom PCB\\\\n\\\\nCustom PCB\\\\n\\\\n3D printed parts\\\\n\\\\n3D printed parts\\\\n\\\\nOther tools and consumables\\\\n\\\\nOther tools and consumables\\\\n\\\\n# Wearable Air Quality Pendant Circuit Diagram\\\\n\\\\nThe complete circuit diagram for the Wearable Air Quality Pendant is shown below. It can also be downloaded in PDF format from the GitHub repo linked at the end.\\\\n\\\\nThe schematic is fully customizable. You can tweak any part of the design to suit your specific needs. For'),\n",
       " Document(metadata={'source': 'projects.jsonl'}, page_content=\"below. It can also be downloaded in PDF format from the GitHub repo linked at the end.\\\\n\\\\nThe schematic is fully customizable. You can tweak any part of the design to suit your specific needs. For instance, we made a few adjustments, such as changing the resistor value in the buzzer driver circuit and modifying the charging current programming resistor in the battery section. Depending on your requirements—such as buzzer loudness or battery capacity—you’re free to modify these values as needed.\\\\n\\\\n# Power Management Circuit\\\\n\\\\nFirst, let's discuss about power management Section. The power management section centers around the J1 USB connector, which provides 5V power input for both charging and operation. The MCP73832T (IC1) serves as a single-cell Li-Po battery charge controller, implementing a constant current/constant voltage charging algorithm with the PROG pin setting the charging current through an external resistor, while a status LED provides visual indication of the charging\"),\n",
       " Document(metadata={'source': 'projects.jsonl'}, page_content='a constant current/constant voltage charging algorithm with the PROG pin setting the charging current through an external resistor, while a status LED provides visual indication of the charging state. The ADPL6400ZAU12 (IC2) functions as a low-dropout voltage regulator that converts the variable battery voltage of approximately 3.7V to a stable +2.5V supply for the entire system, which is essential for consistent sensor operation and microcontroller stability.\\\\n\\\\n# SGP40 Air Quality Sensor Interface\\\\n\\\\nNext comes the The SGP40,Air Quality sensor responsible for measuring Total Volatile Organic Compounds in the surrounding air. This professional-grade sensor communicates with the microcontroller through I2C protocol using dedicated SCL (PA7) and SDA (PA6) lines. The sensor operates on the regulated +2.5V supply to ensure accurate and consistent measurements. Pull-up resistors R5 and R6, both valued at 4.7kΩ, are connected to the I2C lines to ensure proper signal levels and reliable'),\n",
       " Document(metadata={'source': 'projects.jsonl'}, page_content=\"regulated +2.5V supply to ensure accurate and consistent measurements. Pull-up resistors R5 and R6, both valued at 4.7kΩ, are connected to the I2C lines to ensure proper signal levels and reliable communication between the sensor and microcontroller.\\\\n\\\\nThis digital I2C output eliminates the need for analog-to-digital conversion, reducing potential errors and simplifying the interface design. The sensor's low power consumption characteristics make it well-suited for battery-powered applications while maintaining the precision required for professional air quality monitoring.\\\\n\\\\n# STM32 Microcontroller Programming Interface\\\\n\\\\nAbove you can see The STM32L052UCx microcontroller, that serves as the main processing unit, handling sensor communication, data processing, and output control throughout the system. This particular microcontroller from the STM32L series is specifically chosen for its low power design characteristics, making it ideal for battery-powered applications while\"),\n",
       " Document(metadata={'source': 'projects.jsonl'}, page_content='throughout the system. This particular microcontroller from the STM32L series is specifically chosen for its low power design characteristics, making it ideal for battery-powered applications while providing sufficient processing capability for air quality monitoring tasks.\\\\n\\\\nThe programming interface includes both UART (J3) for serial programming and debugging, as well as SWD interface pins (SWDIO and SWCLK) (J2) for in-circuit programming and development.\\\\n\\\\n# LED and Buzzer Feedback System\\\\n\\\\nAt last come the Visual and Audio Feed back system that is responsible for the Alerting the User based on the Air Quality.\\\\n\\\\nThe audio component centers around the SS8550 PNP transistor (Q1) which serves as a driver for the passive buzzer (BZ1). This configuration allows the microcontroller to generate RTTTL tones that correspond to different air quality levels, providing musical audio feedback that matches the urgency of each situation.\\\\n\\\\nThe visual feedback system employs four identical')]"
      ]
     },
     "execution_count": 3,
     "metadata": {},
     "output_type": "execute_result"
    }
   ],
   "source": [
    "from langchain.text_splitter import RecursiveCharacterTextSplitter\n",
    "text_splitter = RecursiveCharacterTextSplitter(chunk_size=1000,chunk_overlap=200)\n",
    "documents = text_splitter.split_documents(text_documents)\n",
    "documents[:10]"
   ]
  },
  {
   "cell_type": "code",
   "execution_count": 13,
   "id": "4c960bf0",
   "metadata": {},
   "outputs": [
    {
     "data": {
      "text/plain": [
       "GoogleGenerativeAI(model='models/gemini-2.5-pro', google_api_key=SecretStr('**********'), client=ChatGoogleGenerativeAI(model='models/gemini-2.5-pro', google_api_key=SecretStr('**********'), client=<google.ai.generativelanguage_v1beta.services.generative_service.client.GenerativeServiceClient object at 0x120e834d0>, default_metadata=(), model_kwargs={}))"
      ]
     },
     "execution_count": 13,
     "metadata": {},
     "output_type": "execute_result"
    }
   ],
   "source": [
    "from langchain_community.llms import Ollama\n",
    "from langchain_google_genai import GoogleGenerativeAI, GoogleGenerativeAIEmbeddings\n",
    "llm = GoogleGenerativeAI(model=\"gemini-2.5-pro\")\n",
    "llm"
   ]
  },
  {
   "cell_type": "code",
   "execution_count": 40,
   "id": "af58dc56",
   "metadata": {},
   "outputs": [],
   "source": [
    "from langchain_community.vectorstores import FAISS\n",
    "# from langchain_openai import OpenAIEmbeddings\n",
    "from langchain_community.embeddings import OllamaEmbeddings\n",
    "embeddings = GoogleGenerativeAIEmbeddings(model=\"models/embedding-001\")\n",
    "db = FAISS.from_documents(documents[:1000],embeddings)"
   ]
  },
  {
   "cell_type": "code",
   "execution_count": 41,
   "id": "e75e394f",
   "metadata": {},
   "outputs": [
    {
     "name": "stdout",
     "output_type": "stream",
     "text": [
      "applications.\\n\\nIoT based Air Pollution Monitoring System using Arduino\\n\\nBuild an IoT-based air pollution monitoring system using Arduino. This project uses sensors to detect harmful gases and sends real-time air quality data to the cloud for remote monitoring and analysis. Ideal for smart city and environmental applications.\\n\\n# Start a Discussion on:\\n\\n# Add New Comment\\n\\nLog in or register to post comments\"}\n"
     ]
    }
   ],
   "source": [
    "query = \"Indoor and outdoor air pollution significantly impacts human health\"\n",
    "retireved_results=db.similarity_search(query)\n",
    "print(retireved_results[0].page_content)"
   ]
  },
  {
   "cell_type": "code",
   "execution_count": 52,
   "id": "510b941b",
   "metadata": {},
   "outputs": [],
   "source": [
    "from langchain_core.prompts import ChatPromptTemplate\n",
    "prompt = ChatPromptTemplate.from_template(\"\"\"\n",
    "You are an expert mentor in Arduino and beginner-level electronics projects. \n",
    "Your primary role is to help sophomore students build confidence in creating simple but meaningful Arduino projects. \n",
    "When answering, you must:\n",
    "\n",
    "1. Provide clear, beginner-friendly explanations without assuming prior advanced knowledge.  \n",
    "2. Break down concepts into simple learning steps (theory + basic circuit + example code).  \n",
    "3. Suggest low-cost components and practical project ideas.  \n",
    "4. Encourage exploration and creativity, while keeping projects achievable for a student.  \n",
    "5. Use the provided context from the knowledge base (project tutorials, guides, circuits, code snippets) as your main reference.  \n",
    "6. If the context is insufficient, rely on fundamental Arduino and electronics knowledge, but keep answers simple and step-by-step.  \n",
    "\n",
    "Your goal is to make students feel empowered to start building their own Arduino projects, learn electronics basics, and gradually advance. \n",
    "Always answer in a supportive, practical, and encouraging tone.\n",
    "<context>\n",
    "{context}\n",
    "</context>\n",
    "Question: {input}\"\"\")"
   ]
  },
  {
   "cell_type": "code",
   "execution_count": 53,
   "id": "df8d5ee9",
   "metadata": {},
   "outputs": [],
   "source": [
    "from langchain.chains.combine_documents import create_stuff_documents_chain\n",
    "document_chain = create_stuff_documents_chain(llm,prompt)"
   ]
  },
  {
   "cell_type": "code",
   "execution_count": null,
   "id": "f2af870b",
   "metadata": {},
   "outputs": [
    {
     "data": {
      "text/plain": [
       "VectorStoreRetriever(tags=['FAISS', 'GoogleGenerativeAIEmbeddings'], vectorstore=<langchain_community.vectorstores.faiss.FAISS object at 0x12372b150>, search_kwargs={})"
      ]
     },
     "execution_count": 55,
     "metadata": {},
     "output_type": "execute_result"
    }
   ],
   "source": [
    "retriever = db.as_retriever()\n",
    "retriever"
   ]
  },
  {
   "cell_type": "code",
   "execution_count": 56,
   "id": "f942e490",
   "metadata": {},
   "outputs": [],
   "source": [
    "from langchain.chains import create_retrieval_chain\n",
    "retrieval_chain = create_retrieval_chain(retriever,document_chain) "
   ]
  },
  {
   "cell_type": "code",
   "execution_count": 64,
   "id": "c642bea1",
   "metadata": {},
   "outputs": [],
   "source": [
    "response = retrieval_chain.invoke({\"input\":\"How to build Arduino Location Tracker using SIM800L GSM Module and NEO-6M GPS Module also provid all in detail with pinouts code and every important step\"})"
   ]
  },
  {
   "cell_type": "code",
   "execution_count": 65,
   "id": "74681ced",
   "metadata": {},
   "outputs": [
    {
     "data": {
      "text/plain": [
       "'Of course! That\\'s an excellent project to get started with. Building a GPS tracker is a fantastic way to learn how different electronic modules can work together to create something truly useful. I\\'ll guide you through it step-by-step, just like we\\'re building it together on a workbench.\\n\\nLet\\'s break this down into simple, manageable parts.\\n\\n### **Part 1: Understanding the Big Picture (The Theory)**\\n\\nBefore we touch any wires, let\\'s understand what each component does. Think of it as a team where each member has a special job:\\n\\n1.  **The Brains (Arduino UNO):** This is our microcontroller. It\\'s in charge of the whole operation. It will listen to the GPS module for location data and then tell the GSM module to send that data as a text message.\\n\\n2.  **The \"Where\" (NEO-6M GPS Module):** This module\\'s job is to listen to signals from satellites orbiting the Earth. By listening to several satellites at once, it can calculate its exact location (latitude and longitude). It then sends this information to our Arduino.\\n\\n3.  **The \"How\" (SIM800L GSM Module):** This module is like a mini cell phone. Once you put a SIM card in it, it can connect to the cellular network. The Arduino will tell it what message to send and who to send it to. This is how we get the location data from our project to our phone.\\n\\n**Our project will work like this:**\\nThe **GPS Module** gets its location -> It tells the **Arduino** the coordinates -> The **Arduino** formats these coordinates into a Google Maps link -> The **Arduino** tells the **GSM Module** to send that link as an SMS to your phone. Simple and powerful!\\n\\n---\\n\\n### **Part 2: Gathering Your Components (The Shopping List)**\\n\\nYou can find these parts easily online, and they are very affordable.\\n\\n*   **Arduino UNO R3:** The classic choice for beginners.\\n*   **NEO-6M GPS Module:** Make sure it comes with a small ceramic antenna.\\n*   **SIM800L GSM Module:** The small red or blue boards are very common.\\n*   **A 2G-compatible SIM Card:** The SIM800L is a 2G module. You\\'ll need a SIM card with an active SMS and/or data plan. An IoT-specific or prepaid SIM card is a great, low-cost option.\\n*   **Resistors:** We need a **1kΩ** and a **2kΩ** resistor for a \"voltage divider.\" I\\'ll explain this in the circuit section!\\n*   **Jumper Wires:** A pack of male-to-male and male-to-female wires will be perfect.\\n*   **External Power Source (Important!):** The SIM800L module is power-hungry, especially when it\\'s searching for a network. The Arduino\\'s 5V pin can\\'t provide enough current. You\\'ll need one of these:\\n    *   A 3.7V LiPo battery.\\n    *   A 5V 2A power adapter (like a phone charger) connected to a dedicated power supply board.\\n\\n---\\n\\n### **Part 3: The Step-by-Step Build (The Circuit & Pinouts)**\\n\\nLet\\'s get our hands dirty and connect the wires. Don\\'t worry, we\\'ll go one module at a time. A **common ground (GND)** is the most important rule in electronics—always connect the grounds of all components together.\\n\\n#### **Step 3.1: Connecting the NEO-6M GPS Module to the Arduino**\\n\\nThis module is simple to connect as it works well with the Arduino\\'s 5V power.\\n\\n*   **GPS VCC** → **Arduino 5V** (Power for the module)\\n*   **GPS GND** → **Arduino GND** (Common ground)\\n*   **GPS TXD** (Transmit) → **Arduino Pin D4** (Arduino will listen on this pin)\\n*   **GPS RXD** (Receive) → **Arduino Pin D3** (Arduino will talk on this pin)\\n\\nWe are using pins D3 and D4 because the main communication pins (0 and 1) will be busy talking to the GSM module. We\\'ll use a special library called `SoftwareSerial` to let the Arduino use these other pins for communication.\\n\\n#### **Step 3.2: Connecting the SIM800L GSM Module to the Arduino**\\n\\nThis step is the most critical. As the context mentions, the **SIM800L works at 3.3V, but the Arduino works at 5V**. If we send a 5V signal from the Arduino to the SIM800L\\'s receive pin, we could damage it.\\n\\nTo solve this, we\\'ll build a simple **voltage divider** with our resistors. This safely \"steps down\" the Arduino\\'s 5V signal to about 3.3V.\\n\\n*   **Powering the SIM800L:**\\n    *   **SIM800L VCC** → **External 3.7V - 4.2V Power Source (+)**\\n    *   **SIM800L GND** → **External Power Source (-)** AND also connect this to **Arduino GND**. This creates the essential common ground.\\n\\n*   **Connecting Data Pins (with Voltage Divider):**\\n    *   **SIM800L TX** (Transmit) → **Arduino Pin 0 (RX)** (It\\'s safe for the 5V Arduino to receive a 3.3V signal).\\n    *   **Arduino Pin 1 (TX)** → **1kΩ resistor** → Connect the other end of the resistor to **SIM800L RX** (Receive).\\n    *   From that same point between the resistor and SIM800L RX, connect the **2kΩ resistor** to **GND**.\\n\\nHere is what the voltage divider looks like:\\n`Arduino TX (Pin 1) --- [ 1kΩ Resistor ] --- SIM800L RX --- [ 2kΩ Resistor ] --- GND`\\n\\nThis setup ensures the signal going *into* the SIM800L is at a safe voltage.\\n\\n---\\n\\n### **Part 4: The Code (Making It Smart)**\\n\\nNow let\\'s write the code that brings our circuit to life. We\\'ll need a couple of libraries to make our job easier. In the Arduino IDE, go to **Sketch > Include Library > Manage Libraries...** and install:\\n\\n1.  **TinyGPS++** by Mikal Hart (excellent for parsing GPS data).\\n2.  **SoftwareSerial** (this one is built-in, so you just need to include it).\\n\\nHere is a complete, commented code to get you started.\\n\\n```cpp\\n// Include necessary libraries\\n#include <TinyGPS++.h> // For reading data from the GPS module\\n#include <SoftwareSerial.h> // To create a second serial port for the GPS\\n\\n// --- Configuration ---\\n// Replace this with the phone number you want to send the location to.\\n// Use the international format, e.g., \"+1234567890\"\\nString phoneNumber = \"+1234567890\"; \\n\\n// How often to send a location update (in milliseconds)\\n// 60000ms = 1 minute\\nconst long updateInterval = 60000; \\nlong lastUpdateTime = 0;\\n\\n// --- Pin Definitions ---\\n// Pins for our SoftwareSerial port that connects to the GPS\\nstatic const int GPS_RX_PIN = 4;\\nstatic const int GPS_TX_PIN = 3;\\n\\n// --- Object Initialization ---\\n// Create a TinyGPS++ object to handle GPS data\\nTinyGPSPlus gps;\\n\\n// Create a SoftwareSerial object for the GPS module\\n// We name it \\'gpsSerial\\'\\nSoftwareSerial gpsSerial(GPS_RX_PIN, GPS_TX_PIN);\\n\\nvoid setup() {\\n  // Start the main serial connection (for debugging and SIM800L)\\n  // This is what you\\'ll see in the Serial Monitor.\\n  Serial.begin(9600);\\n  \\n  // Start the serial connection to the GPS module\\n  gpsSerial.begin(9600);\\n\\n  Serial.println(\"Arduino GPS Tracker Initializing...\");\\n  Serial.println(\"Waiting for modules to power on...\");\\n  delay(5000); // Give modules time to boot up\\n\\n  Serial.println(\"System Ready. Waiting for GPS lock...\");\\n}\\n\\nvoid loop() {\\n  // This is the magic! Keep reading from the GPS module.\\n  while (gpsSerial.available() > 0) {\\n    gps.encode(gpsSerial.read());\\n  }\\n\\n  // Check if we have a valid location and if it\\'s time to send an update\\n  if (gps.location.isValid() && (millis() - lastUpdateTime > updateInterval)) {\\n    \\n    // Get latitude and longitude\\n    float latitude = gps.location.lat();\\n    float longitude = gps.location.lng();\\n\\n    Serial.print(\"Location Found! Lat: \");\\n    Serial.print(latitude, 6); // \\'6\\' for decimal precision\\n    Serial.print(\", Lon: \");\\n    Serial.println(longitude, 6);\\n\\n    // Create a Google Maps link\\n    String googleMapsLink = \"http://maps.google.com/maps?q=\";\\n    googleMapsLink += String(latitude, 6);\\n    googleMapsLink += \",\";\\n    googleMapsLink += String(longitude, 6);\\n    \\n    // Send the link via SMS\\n    sendSMS(googleMapsLink);\\n\\n    // Update the time so we wait for the next interval\\n    lastUpdateTime = millis();\\n  }\\n}\\n\\n// Function to send an SMS using AT commands\\nvoid sendSMS(String message) {\\n  Serial.println(\"Sending SMS...\");\\n  \\n  // Set SMS to text mode\\n  Serial.println(\"AT+CMGF=1\"); \\n  delay(1000);\\n\\n  // Set the recipient\\'s phone number\\n  Serial.println(\"AT+CMGS=\\\\\"\" + phoneNumber + \"\\\\\"\");\\n  delay(1000);\\n\\n  // Send the message content\\n  Serial.println(message);\\n  delay(1000);\\n\\n  // Send the special character (Ctrl+Z) to end the message\\n  Serial.write(26); \\n  delay(1000);\\n  \\n  Serial.println(\"SMS Sent!\");\\n}\\n```\\n\\n---\\n\\n### **Part 5: Bringing It to Life (Testing)**\\n\\nThis is the most exciting part! Follow these steps carefully.\\n\\n1.  **Double-Check Your Wiring:** Make sure everything is connected exactly as described, especially the grounds and the voltage divider.\\n2.  **Insert the SIM Card:** Place your activated SIM card into the SIM800L module.\\n3.  **Upload the Code:** Connect your Arduino to your computer, select the correct Board and Port in the Arduino IDE, and upload the code.\\n4.  **Go Outdoors!** As the context rightly says, GPS modules need a clear view of the sky to see the satellites. Take your project outside or place it near a window.\\n5.  **Open the Serial Monitor:** In the Arduino IDE, go to **Tools > Serial Monitor**. Set the baud rate to **9600**. You should see the \"Initializing...\" message.\\n6.  **Be Patient:** The first time a GPS module starts, it can take a few minutes (2-5 minutes is normal) to get a \"satellite lock.\" You\\'ll know it\\'s working when you see the latitude and longitude coordinates pop up in the Serial Monitor.\\n7.  **Check Your Phone:** Once a location is found, the code will trigger the `sendSMS` function. A few moments later, you should receive a text message with a Google Maps link!\\n\\n### **Part 6: What\\'s Next? (Exploration and Creativity)**\\n\\nYou\\'ve built a fully functional GPS tracker! How cool is that? Now you can start thinking about how to make it even better. Here are a few ideas to get you started:\\n\\n*   **Build an Enclosure:** Design and 3D print a case to protect your project and make it portable.\\n*   **Power on the Go:** Use a LiPo battery and a charging circuit to make your tracker truly wireless.\\n*   **On-Demand Location:** Add a button that, when pressed, immediately sends the current location.\\n*   **Geofencing:** Program the Arduino to send an alert only when the tracker leaves a predefined area (like your neighborhood).\\n\\nYou\\'ve taken a huge step in your electronics journey today. Don\\'t be afraid to experiment with the code and the circuit. Every great project starts with a first step, and you\\'ve just completed a very impressive one.\\n\\nIf you have any questions at all, just ask. Happy building'"
      ]
     },
     "execution_count": 65,
     "metadata": {},
     "output_type": "execute_result"
    }
   ],
   "source": [
    "response[\"answer\"]"
   ]
  },
  {
   "cell_type": "code",
   "execution_count": 67,
   "id": "111f75fe",
   "metadata": {},
   "outputs": [
    {
     "name": "stdout",
     "output_type": "stream",
     "text": [
      "Of course! That's an excellent project to get started with. Building a GPS tracker is a fantastic way to learn how different electronic modules can work together to create something truly useful. I'll guide you through it step-by-step, just like we're building it together on a workbench.\n",
      "\n",
      "Let's break this down into simple, manageable parts.\n",
      "\n",
      "### **Part 1: Understanding the Big Picture (The Theory)**\n",
      "\n",
      "Before we touch any wires, let's understand what each component does. Think of it as a team where each member has a special job:\n",
      "\n",
      "1.  **The Brains (Arduino UNO):** This is our microcontroller. It's in charge of the whole operation. It will listen to the GPS module for location data and then tell the GSM module to send that data as a text message.\n",
      "\n",
      "2.  **The \"Where\" (NEO-6M GPS Module):** This module's job is to listen to signals from satellites orbiting the Earth. By listening to several satellites at once, it can calculate its exact location (latitude and longitude). It then sends this information to our Arduino.\n",
      "\n",
      "3.  **The \"How\" (SIM800L GSM Module):** This module is like a mini cell phone. Once you put a SIM card in it, it can connect to the cellular network. The Arduino will tell it what message to send and who to send it to. This is how we get the location data from our project to our phone.\n",
      "\n",
      "**Our project will work like this:**\n",
      "The **GPS Module** gets its location -> It tells the **Arduino** the coordinates -> The **Arduino** formats these coordinates into a Google Maps link -> The **Arduino** tells the **GSM Module** to send that link as an SMS to your phone. Simple and powerful!\n",
      "\n",
      "---\n",
      "\n",
      "### **Part 2: Gathering Your Components (The Shopping List)**\n",
      "\n",
      "You can find these parts easily online, and they are very affordable.\n",
      "\n",
      "*   **Arduino UNO R3:** The classic choice for beginners.\n",
      "*   **NEO-6M GPS Module:** Make sure it comes with a small ceramic antenna.\n",
      "*   **SIM800L GSM Module:** The small red or blue boards are very common.\n",
      "*   **A 2G-compatible SIM Card:** The SIM800L is a 2G module. You'll need a SIM card with an active SMS and/or data plan. An IoT-specific or prepaid SIM card is a great, low-cost option.\n",
      "*   **Resistors:** We need a **1kΩ** and a **2kΩ** resistor for a \"voltage divider.\" I'll explain this in the circuit section!\n",
      "*   **Jumper Wires:** A pack of male-to-male and male-to-female wires will be perfect.\n",
      "*   **External Power Source (Important!):** The SIM800L module is power-hungry, especially when it's searching for a network. The Arduino's 5V pin can't provide enough current. You'll need one of these:\n",
      "*   A 3.7V LiPo battery.\n",
      "*   A 5V 2A power adapter (like a phone charger) connected to a dedicated power supply board.\n",
      "\n",
      "---\n",
      "\n",
      "### **Part 3: The Step-by-Step Build (The Circuit & Pinouts)**\n",
      "\n",
      "Let's get our hands dirty and connect the wires. Don't worry, we'll go one module at a time. A **common ground (GND)** is the most important rule in electronics—always connect the grounds of all components together.\n",
      "\n",
      "#### **Step 3.1: Connecting the NEO-6M GPS Module to the Arduino**\n",
      "\n",
      "This module is simple to connect as it works well with the Arduino's 5V power.\n",
      "\n",
      "*   **GPS VCC** → **Arduino 5V** (Power for the module)\n",
      "*   **GPS GND** → **Arduino GND** (Common ground)\n",
      "*   **GPS TXD** (Transmit) → **Arduino Pin D4** (Arduino will listen on this pin)\n",
      "*   **GPS RXD** (Receive) → **Arduino Pin D3** (Arduino will talk on this pin)\n",
      "\n",
      "We are using pins D3 and D4 because the main communication pins (0 and 1) will be busy talking to the GSM module. We'll use a special library called `SoftwareSerial` to let the Arduino use these other pins for communication.\n",
      "\n",
      "#### **Step 3.2: Connecting the SIM800L GSM Module to the Arduino**\n",
      "\n",
      "This step is the most critical. As the context mentions, the **SIM800L works at 3.3V, but the Arduino works at 5V**. If we send a 5V signal from the Arduino to the SIM800L's receive pin, we could damage it.\n",
      "\n",
      "To solve this, we'll build a simple **voltage divider** with our resistors. This safely \"steps down\" the Arduino's 5V signal to about 3.3V.\n",
      "\n",
      "*   **Powering the SIM800L:**\n",
      "*   **SIM800L VCC** → **External 3.7V - 4.2V Power Source (+)**\n",
      "*   **SIM800L GND** → **External Power Source (-)** AND also connect this to **Arduino GND**. This creates the essential common ground.\n",
      "\n",
      "*   **Connecting Data Pins (with Voltage Divider):**\n",
      "*   **SIM800L TX** (Transmit) → **Arduino Pin 0 (RX)** (It's safe for the 5V Arduino to receive a 3.3V signal).\n",
      "*   **Arduino Pin 1 (TX)** → **1kΩ resistor** → Connect the other end of the resistor to **SIM800L RX** (Receive).\n",
      "*   From that same point between the resistor and SIM800L RX, connect the **2kΩ resistor** to **GND**.\n",
      "\n",
      "Here is what the voltage divider looks like:\n",
      "`Arduino TX (Pin 1) --- [ 1kΩ Resistor ] --- SIM800L RX --- [ 2kΩ Resistor ] --- GND`\n",
      "\n",
      "This setup ensures the signal going *into* the SIM800L is at a safe voltage.\n",
      "\n",
      "---\n",
      "\n",
      "### **Part 4: The Code (Making It Smart)**\n",
      "\n",
      "Now let's write the code that brings our circuit to life. We'll need a couple of libraries to make our job easier. In the Arduino IDE, go to **Sketch > Include Library > Manage Libraries...** and install:\n",
      "\n",
      "1.  **TinyGPS++** by Mikal Hart (excellent for parsing GPS data).\n",
      "2.  **SoftwareSerial** (this one is built-in, so you just need to include it).\n",
      "\n",
      "Here is a complete, commented code to get you started.\n",
      "\n",
      "```cpp\n",
      "// Include necessary libraries\n",
      "#include <TinyGPS++.h> // For reading data from the GPS module\n",
      "#include <SoftwareSerial.h> // To create a second serial port for the GPS\n",
      "\n",
      "// --- Configuration ---\n",
      "// Replace this with the phone number you want to send the location to.\n",
      "// Use the international format, e.g., \"+1234567890\"\n",
      "String phoneNumber = \"+1234567890\";\n",
      "\n",
      "// How often to send a location update (in milliseconds)\n",
      "// 60000ms = 1 minute\n",
      "const long updateInterval = 60000;\n",
      "long lastUpdateTime = 0;\n",
      "\n",
      "// --- Pin Definitions ---\n",
      "// Pins for our SoftwareSerial port that connects to the GPS\n",
      "static const int GPS_RX_PIN = 4;\n",
      "static const int GPS_TX_PIN = 3;\n",
      "\n",
      "// --- Object Initialization ---\n",
      "// Create a TinyGPS++ object to handle GPS data\n",
      "TinyGPSPlus gps;\n",
      "\n",
      "// Create a SoftwareSerial object for the GPS module\n",
      "// We name it 'gpsSerial'\n",
      "SoftwareSerial gpsSerial(GPS_RX_PIN, GPS_TX_PIN);\n",
      "\n",
      "void setup() {\n",
      "// Start the main serial connection (for debugging and SIM800L)\n",
      "// This is what you'll see in the Serial Monitor.\n",
      "Serial.begin(9600);\n",
      "\n",
      "// Start the serial connection to the GPS module\n",
      "gpsSerial.begin(9600);\n",
      "\n",
      "Serial.println(\"Arduino GPS Tracker Initializing...\");\n",
      "Serial.println(\"Waiting for modules to power on...\");\n",
      "delay(5000); // Give modules time to boot up\n",
      "\n",
      "Serial.println(\"System Ready. Waiting for GPS lock...\");\n",
      "}\n",
      "\n",
      "void loop() {\n",
      "// This is the magic! Keep reading from the GPS module.\n",
      "while (gpsSerial.available() > 0) {\n",
      "gps.encode(gpsSerial.read());\n",
      "}\n",
      "\n",
      "// Check if we have a valid location and if it's time to send an update\n",
      "if (gps.location.isValid() && (millis() - lastUpdateTime > updateInterval)) {\n",
      "\n",
      "// Get latitude and longitude\n",
      "float latitude = gps.location.lat();\n",
      "float longitude = gps.location.lng();\n",
      "\n",
      "Serial.print(\"Location Found! Lat: \");\n",
      "Serial.print(latitude, 6); // '6' for decimal precision\n",
      "Serial.print(\", Lon: \");\n",
      "Serial.println(longitude, 6);\n",
      "\n",
      "// Create a Google Maps link\n",
      "String googleMapsLink = \"http://maps.google.com/maps?q=\";\n",
      "googleMapsLink += String(latitude, 6);\n",
      "googleMapsLink += \",\";\n",
      "googleMapsLink += String(longitude, 6);\n",
      "\n",
      "// Send the link via SMS\n",
      "sendSMS(googleMapsLink);\n",
      "\n",
      "// Update the time so we wait for the next interval\n",
      "lastUpdateTime = millis();\n",
      "}\n",
      "}\n",
      "\n",
      "// Function to send an SMS using AT commands\n",
      "void sendSMS(String message) {\n",
      "Serial.println(\"Sending SMS...\");\n",
      "\n",
      "// Set SMS to text mode\n",
      "Serial.println(\"AT+CMGF=1\");\n",
      "delay(1000);\n",
      "\n",
      "// Set the recipient's phone number\n",
      "Serial.println(\"AT+CMGS=\\\"\" + phoneNumber + \"\\\"\");\n",
      "delay(1000);\n",
      "\n",
      "// Send the message content\n",
      "Serial.println(message);\n",
      "delay(1000);\n",
      "\n",
      "// Send the special character (Ctrl+Z) to end the message\n",
      "Serial.write(26);\n",
      "delay(1000);\n",
      "\n",
      "Serial.println(\"SMS Sent!\");\n",
      "}\n",
      "```\n",
      "\n",
      "---\n",
      "\n",
      "### **Part 5: Bringing It to Life (Testing)**\n",
      "\n",
      "This is the most exciting part! Follow these steps carefully.\n",
      "\n",
      "1.  **Double-Check Your Wiring:** Make sure everything is connected exactly as described, especially the grounds and the voltage divider.\n",
      "2.  **Insert the SIM Card:** Place your activated SIM card into the SIM800L module.\n",
      "3.  **Upload the Code:** Connect your Arduino to your computer, select the correct Board and Port in the Arduino IDE, and upload the code.\n",
      "4.  **Go Outdoors!** As the context rightly says, GPS modules need a clear view of the sky to see the satellites. Take your project outside or place it near a window.\n",
      "5.  **Open the Serial Monitor:** In the Arduino IDE, go to **Tools > Serial Monitor**. Set the baud rate to **9600**. You should see the \"Initializing...\" message.\n",
      "6.  **Be Patient:** The first time a GPS module starts, it can take a few minutes (2-5 minutes is normal) to get a \"satellite lock.\" You'll know it's working when you see the latitude and longitude coordinates pop up in the Serial Monitor.\n",
      "7.  **Check Your Phone:** Once a location is found, the code will trigger the `sendSMS` function. A few moments later, you should receive a text message with a Google Maps link!\n",
      "\n",
      "### **Part 6: What's Next? (Exploration and Creativity)**\n",
      "\n",
      "You've built a fully functional GPS tracker! How cool is that? Now you can start thinking about how to make it even better. Here are a few ideas to get you started:\n",
      "\n",
      "*   **Build an Enclosure:** Design and 3D print a case to protect your project and make it portable.\n",
      "*   **Power on the Go:** Use a LiPo battery and a charging circuit to make your tracker truly wireless.\n",
      "*   **On-Demand Location:** Add a button that, when pressed, immediately sends the current location.\n",
      "*   **Geofencing:** Program the Arduino to send an alert only when the tracker leaves a predefined area (like your neighborhood).\n",
      "\n",
      "You've taken a huge step in your electronics journey today. Don't be afraid to experiment with the code and the circuit. Every great project starts with a first step, and you've just completed a very impressive one.\n",
      "\n",
      "If you have any questions at all, just ask. Happy building\n"
     ]
    }
   ],
   "source": [
    "def print_readable_response(text):\n",
    "    lines = text.strip().split('\\n')\n",
    "    for line in lines:\n",
    "        print(line.strip())\n",
    "\n",
    "print_readable_response(response[\"answer\"])\n"
   ]
  },
  {
   "cell_type": "code",
   "execution_count": null,
   "id": "177120ae",
   "metadata": {},
   "outputs": [],
   "source": []
  }
 ],
 "metadata": {
  "kernelspec": {
   "display_name": "env",
   "language": "python",
   "name": "python3"
  },
  "language_info": {
   "codemirror_mode": {
    "name": "ipython",
    "version": 3
   },
   "file_extension": ".py",
   "mimetype": "text/x-python",
   "name": "python",
   "nbconvert_exporter": "python",
   "pygments_lexer": "ipython3",
   "version": "3.11.5"
  }
 },
 "nbformat": 4,
 "nbformat_minor": 5
}
